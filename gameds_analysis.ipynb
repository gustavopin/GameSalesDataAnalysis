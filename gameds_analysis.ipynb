{
 "cells": [
  {
   "cell_type": "code",
   "execution_count": 13,
   "id": "ea9e149f",
   "metadata": {},
   "outputs": [
    {
     "name": "stdout",
     "output_type": "stream",
     "text": [
      "Sum NA Sales (in millions): 4392.75\n",
      "\n",
      "Sum EU Sales (in millions): 2433.97\n",
      "\n",
      "Sum JP Sales (in millions): 1290.01\n",
      "\n",
      "Sum Other Sales (in millions): 797.64\n",
      "\n",
      "Total Sales globally (in millions): 8914.37\n",
      "\n",
      "Percentage of NA Sales: 49.28%\n",
      "Percentage of EU Sales: 27.30%\n",
      "Percentage of JP Sales: 14.47%\n",
      "Percentage of Other Sales: 8.95%\n"
     ]
    },
    {
     "data": {
      "image/png": "[encoded data removed]",
      "text/plain": [
       "<Figure size 900x500 with 1 Axes>"
      ]
     },
     "metadata": {},
     "output_type": "display_data"
    },
    {
     "name": "stdout",
     "output_type": "stream",
     "text": [
      "\n",
      "       NA_Sales  EU_Sales  JP_Sales  Other_Sales\n",
      "0         41.49     29.02      3.77         8.46\n",
      "1         29.08      3.58      6.81         0.77\n",
      "2         15.85     12.88      3.79         3.31\n",
      "3         15.75     11.01      3.28         2.96\n",
      "4         11.27      8.89     10.22         1.00\n",
      "...         ...       ...       ...          ...\n",
      "16593      0.01      0.00      0.00         0.00\n",
      "16594      0.01      0.00      0.00         0.00\n",
      "16595      0.00      0.00      0.00         0.00\n",
      "16596      0.00      0.01      0.00         0.00\n",
      "16597      0.01      0.00      0.00         0.00\n",
      "\n",
      "[16598 rows x 4 columns]\n"
     ]
    }
   ],
   "source": [
    "import pandas as pd\n",
    "import matplotlib.pyplot as plt\n",
    "\n",
    "\n",
    "#reading the excel file\n",
    "totalsales = pd.read_excel(r'C:\\Users\\gusta\\Desktop\\Programação\\Testes\\Python\\Project2\\game_sales_data.xlsx', sheet_name = 'TotalSalesRegion')\n",
    "\n",
    "#total sum from NA column\n",
    "sumna = (totalsales['NA_Sales'].sum())\n",
    "\n",
    "#total sum from EU column\n",
    "sumeu = (totalsales['EU_Sales'].sum())\n",
    "\n",
    "#total sum from JP column\n",
    "sumjp = (totalsales['JP_Sales'].sum())\n",
    "\n",
    "#total sum from Other column\n",
    "sumot = (totalsales['Other_Sales'].sum())\n",
    "\n",
    "#total sum of ALL the columns\n",
    "sumtotal = sumna + sumeu + sumjp + sumot\n",
    "\n",
    "#Percentage of sales per region\n",
    "percna = (sumna / sumtotal) * 100 \n",
    "perceu = (sumeu / sumtotal) * 100 \n",
    "percjp = (sumjp / sumtotal) * 100  \n",
    "percot = (sumot / sumtotal) * 100\n",
    "\n",
    "#printing results\n",
    "print(f'Sum NA Sales (in millions): {sumna:.2f}\\n')\n",
    "print(f'Sum EU Sales (in millions): {sumeu:.2f}\\n')\n",
    "print(f'Sum JP Sales (in millions): {sumjp:.2f}\\n')\n",
    "print(f'Sum Other Sales (in millions): {sumot:.2f}\\n')\n",
    "print(f'Total Sales globally (in millions): {sumtotal:.2f}\\n')\n",
    "\n",
    "#percentage per region\n",
    "print(f'Percentage of NA Sales: {percna:.2f}''%')\n",
    "print(f'Percentage of EU Sales: {perceu:.2f}''%')\n",
    "print(f'Percentage of JP Sales: {percjp:.2f}''%')\n",
    "print(f'Percentage of Other Sales: {percot:.2f}''%')\n",
    "\n",
    "#pie chart\n",
    "piechart = [percna, perceu, percjp, percot]\n",
    "char = plt.figure(figsize = (9, 5))\n",
    "plt.pie(piechart, labels = ('North America', 'Europe', 'Japan', 'Other'))\n",
    "plt.show()\n",
    "\n",
    "\n",
    "#printing the excel sheet\n",
    "print(f'\\n{totalsales}')"
   ]
  },
  {
   "cell_type": "code",
   "execution_count": 9,
   "id": "09af2096",
   "metadata": {},
   "outputs": [
    {
     "name": "stdout",
     "output_type": "stream",
     "text": [
      "                                                  NA_Sales  EU_Sales  \\\n",
      "Name                                                                   \n",
      "Wii Sports                                           41.49     29.02   \n",
      "Super Mario Bros.                                    29.08      3.58   \n",
      "Mario Kart Wii                                       15.85     12.88   \n",
      "Wii Sports Resort                                    15.75     11.01   \n",
      "Pokemon Red/Pokemon Blue                             11.27      8.89   \n",
      "...                                                    ...       ...   \n",
      "Woody Woodpecker in Crazy Castle 5                    0.01      0.00   \n",
      "Men in Black II: Alien Escape                         0.01      0.00   \n",
      "SCORE International Baja 1000: The Official Game      0.00      0.00   \n",
      "Know How 2                                            0.00      0.01   \n",
      "Spirits & Spells                                      0.01      0.00   \n",
      "\n",
      "                                                  JP_Sales  Other_Sales  \\\n",
      "Name                                                                      \n",
      "Wii Sports                                            3.77         8.46   \n",
      "Super Mario Bros.                                     6.81         0.77   \n",
      "Mario Kart Wii                                        3.79         3.31   \n",
      "Wii Sports Resort                                     3.28         2.96   \n",
      "Pokemon Red/Pokemon Blue                             10.22         1.00   \n",
      "...                                                    ...          ...   \n",
      "Woody Woodpecker in Crazy Castle 5                    0.00         0.00   \n",
      "Men in Black II: Alien Escape                         0.00         0.00   \n",
      "SCORE International Baja 1000: The Official Game      0.00         0.00   \n",
      "Know How 2                                            0.00         0.00   \n",
      "Spirits & Spells                                      0.00         0.00   \n",
      "\n",
      "                                                  Global_Sales  \n",
      "Name                                                            \n",
      "Wii Sports                                               82.74  \n",
      "Super Mario Bros.                                        40.24  \n",
      "Mario Kart Wii                                           35.82  \n",
      "Wii Sports Resort                                        33.00  \n",
      "Pokemon Red/Pokemon Blue                                 31.37  \n",
      "...                                                        ...  \n",
      "Woody Woodpecker in Crazy Castle 5                        0.01  \n",
      "Men in Black II: Alien Escape                             0.01  \n",
      "SCORE International Baja 1000: The Official Game          0.01  \n",
      "Know How 2                                                0.01  \n",
      "Spirits & Spells                                          0.01  \n",
      "\n",
      "[16598 rows x 5 columns]\n"
     ]
    }
   ],
   "source": [
    "mostsoldgame = pd.read_excel(r'C:\\Users\\gusta\\Desktop\\Programação\\Testes\\Python\\Project2\\game_sales_data.xlsx', sheet_name = 'MostSoldGame', index_col = 0)\n",
    "print(mostsoldgame)"
   ]
  },
  {
   "cell_type": "code",
   "execution_count": null,
   "id": "8502224a",
   "metadata": {},
   "outputs": [],
   "source": []
  }
 ],
 "metadata": {
  "kernelspec": {
   "display_name": "Python 3 (ipykernel)",
   "language": "python",
   "name": "python3"
  },
  "language_info": {
   "codemirror_mode": {
    "name": "ipython",
    "version": 3
   },
   "file_extension": ".py",
   "mimetype": "text/x-python",
   "name": "python",
   "nbconvert_exporter": "python",
   "pygments_lexer": "ipython3",
   "version": "3.10.9"
  }
 },
 "nbformat": 4,
 "nbformat_minor": 5
}
