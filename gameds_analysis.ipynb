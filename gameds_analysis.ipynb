{
 "cells": [
  {
   "cell_type": "markdown",
   "id": "98c618e8",
   "metadata": {},
   "source": [
    "##### The data presented here can be found in: https://www.kaggle.com/datasets/gregorut/videogamesales"
   ]
  },
  {
   "cell_type": "markdown",
   "id": "4ddef9ec",
   "metadata": {},
   "source": [
    "## Games Sold per Region"
   ]
  },
  {
   "cell_type": "code",
   "execution_count": 6,
   "id": "ea9e149f",
   "metadata": {
    "scrolled": false
   },
   "outputs": [
    {
     "name": "stdout",
     "output_type": "stream",
     "text": [
      "Sum NA Sales (in millions): 4392.75\n",
      "\n",
      "Sum EU Sales (in millions): 2433.97\n",
      "\n",
      "Sum JP Sales (in millions): 1290.01\n",
      "\n",
      "Sum Other Sales (in millions): 797.64\n",
      "\n",
      "Total Sales globally (in millions): 8914.37\n",
      "\n",
      "Percentage of NA Sales: 49.28%\n",
      "Percentage of EU Sales: 27.30%\n",
      "Percentage of JP Sales: 14.47%\n",
      "Percentage of Other Sales: 8.95%\n"
     ]
    },
    {
     "data": {
      "image/png": "[encoded data removed]",
      "text/plain": [
       "<Figure size 640x480 with 1 Axes>"
      ]
     },
     "metadata": {},
     "output_type": "display_data"
    },
    {
     "name": "stdout",
     "output_type": "stream",
     "text": [
      "\n",
      "       NA_Sales  EU_Sales  JP_Sales  Other_Sales\n",
      "0         41.49     29.02      3.77         8.46\n",
      "1         29.08      3.58      6.81         0.77\n",
      "2         15.85     12.88      3.79         3.31\n",
      "3         15.75     11.01      3.28         2.96\n",
      "4         11.27      8.89     10.22         1.00\n",
      "...         ...       ...       ...          ...\n",
      "16593      0.01      0.00      0.00         0.00\n",
      "16594      0.01      0.00      0.00         0.00\n",
      "16595      0.00      0.00      0.00         0.00\n",
      "16596      0.00      0.01      0.00         0.00\n",
      "16597      0.01      0.00      0.00         0.00\n",
      "\n",
      "[16598 rows x 4 columns]\n"
     ]
    }
   ],
   "source": [
    "import pandas as pd\n",
    "import matplotlib.pyplot as plt\n",
    "\n",
    "\n",
    "# reading the excel file\n",
    "totalsales = pd.read_excel(r'path\\game_sales_data.xlsx', sheet_name = 'TotalSalesRegion')\n",
    "\n",
    "# total sum from NA column\n",
    "sumna = (totalsales['NA_Sales'].sum())\n",
    "\n",
    "# total sum from EU column\n",
    "sumeu = (totalsales['EU_Sales'].sum())\n",
    "\n",
    "# total sum from JP column\n",
    "sumjp = (totalsales['JP_Sales'].sum())\n",
    "\n",
    "# total sum from Other column\n",
    "sumot = (totalsales['Other_Sales'].sum())\n",
    "\n",
    "# total sum of ALL the columns\n",
    "sumtotal = sumna + sumeu + sumjp + sumot\n",
    "\n",
    "# Percentage of sales per region\n",
    "percna = (sumna / sumtotal) * 100 \n",
    "perceu = (sumeu / sumtotal) * 100 \n",
    "percjp = (sumjp / sumtotal) * 100  \n",
    "percot = (sumot / sumtotal) * 100\n",
    "\n",
    "# printing results\n",
    "print(f'Sum NA Sales (in millions): {sumna:.2f}\\n')\n",
    "print(f'Sum EU Sales (in millions): {sumeu:.2f}\\n')\n",
    "print(f'Sum JP Sales (in millions): {sumjp:.2f}\\n')\n",
    "print(f'Sum Other Sales (in millions): {sumot:.2f}\\n')\n",
    "print(f'Total Sales globally (in millions): {sumtotal:.2f}\\n')\n",
    "\n",
    "# percentage per region\n",
    "print(f'Percentage of NA Sales: {percna:.2f}''%')\n",
    "print(f'Percentage of EU Sales: {perceu:.2f}''%')\n",
    "print(f'Percentage of JP Sales: {percjp:.2f}''%')\n",
    "print(f'Percentage of Other Sales: {percot:.2f}''%')\n",
    "\n",
    "# bar chart\n",
    "y = [percna, perceu, percjp, percot]\n",
    "x = ['North America', 'Europe', 'Japan', 'Other']\n",
    "colors = ['#808080', '#A9A9A9', '#D3D3D3', '#C0C0C0']\n",
    "plt.bar(x, y, width = 0.6, color = colors)\n",
    "plt.xlabel('Region')\n",
    "plt.ylabel('Percentage (%)')\n",
    "plt.title('Total Percentage of Games Sold By Region')\n",
    "plt.show()\n",
    "\n",
    "\n",
    "# printing the excel sheet\n",
    "print(f'\\n{totalsales}')"
   ]
  },
  {
   "cell_type": "markdown",
   "id": "b7ee0205",
   "metadata": {},
   "source": [
    "## 50 Most Sold Games"
   ]
  },
  {
   "cell_type": "code",
   "execution_count": 30,
   "id": "09af2096",
   "metadata": {
    "scrolled": false
   },
   "outputs": [
    {
     "name": "stdout",
     "output_type": "stream",
     "text": [
      "                                       Game Name  Total Sales\n",
      "0                                     Wii Sports        82.74\n",
      "1                              Super Mario Bros.        40.24\n",
      "2                                 Mario Kart Wii        35.83\n",
      "3                              Wii Sports Resort        33.00\n",
      "4                       Pokemon Red/Pokemon Blue        31.38\n",
      "5                                         Tetris        30.26\n",
      "6                          New Super Mario Bros.        30.01\n",
      "7                                       Wii Play        29.01\n",
      "8                      New Super Mario Bros. Wii        28.61\n",
      "9                                      Duck Hunt        28.31\n",
      "10                                    Nintendogs        24.75\n",
      "11                                 Mario Kart DS        23.43\n",
      "12                   Pokemon Gold/Pokemon Silver        23.09\n",
      "13                                       Wii Fit        22.72\n",
      "14                                  Wii Fit Plus        22.00\n",
      "15                            Kinect Adventures!        21.82\n",
      "16                            Grand Theft Auto V        21.39\n",
      "17                 Grand Theft Auto: San Andreas        20.81\n",
      "18                             Super Mario World        20.62\n",
      "19  Brain Age: Train Your Brain in Minutes a Day        20.22\n",
      "20                 Pokemon Diamond/Pokemon Pearl        18.35\n",
      "21                              Super Mario Land        18.14\n",
      "22                           Super Mario Bros. 3        17.28\n",
      "23                            Grand Theft Auto V        16.38\n",
      "24                   Grand Theft Auto: Vice City        16.15\n",
      "25                 Pokemon Ruby/Pokemon Sapphire        15.84\n",
      "26                   Pokemon Black/Pokemon White        15.32\n",
      "27   Brain Age 2: More Training in Minutes a Day        15.30\n",
      "28                        Gran Turismo 3: A-Spec        14.97\n",
      "29                Call of Duty: Modern Warfare 3        14.76\n",
      "30      PokÃ©mon Yellow: Special Pikachu Edition        14.64\n",
      "31                       Call of Duty: Black Ops        14.64\n",
      "32                           Pokemon X/Pokemon Y        14.35\n",
      "33                     Call of Duty: Black Ops 3        14.24\n",
      "34                    Call of Duty: Black Ops II        14.04\n",
      "35                    Call of Duty: Black Ops II        13.74\n",
      "36                Call of Duty: Modern Warfare 2        13.52\n",
      "37                Call of Duty: Modern Warfare 3        13.47\n",
      "38                          Grand Theft Auto III        13.10\n",
      "39                       Super Smash Bros. Brawl        13.04\n",
      "40                       Call of Duty: Black Ops        12.73\n",
      "41                   Animal Crossing: Wild World        12.28\n",
      "42                                  Mario Kart 7        12.21\n",
      "43                                        Halo 3        12.14\n",
      "44                            Grand Theft Auto V        11.99\n",
      "45          Pokemon HeartGold/Pokemon SoulSilver        11.90\n",
      "46                                Super Mario 64        11.90\n",
      "47                                Gran Turismo 4        11.65\n",
      "48                            Super Mario Galaxy        11.52\n",
      "49     Pokemon Omega Ruby/Pokemon Alpha Sapphire        11.33\n"
     ]
    }
   ],
   "source": [
    "# reading the excel file and importing the specific sheet\n",
    "mostsoldgame = pd.read_excel(r'path\\game_sales_data.xlsx', sheet_name = 'MostSoldGame', nrows = 50)\n",
    "\n",
    "# total sum from the columns\n",
    "mostsoldgame['Total Sales'] = mostsoldgame['NA_Sales'] + mostsoldgame['EU_Sales'] + mostsoldgame['JP_Sales'] + mostsoldgame['Other_Sales']\n",
    "\n",
    "# Storing the columns 'Name' and 'Total Sales' in a list\n",
    "names = mostsoldgame['Name'].tolist()\n",
    "tsales = mostsoldgame['Total Sales'].tolist()\n",
    "\n",
    "# Creating a new sheet with the two new lists\n",
    "sheet = pd.DataFrame({\n",
    "    'Game Name' : names,\n",
    "    'Total Sales' : tsales\n",
    "})\n",
    "\n",
    "print(sheet)"
   ]
  },
  {
   "cell_type": "markdown",
   "id": "f88c0a81",
   "metadata": {},
   "source": [
    "## Top 50 Publishers That Had More Game Titles Released"
   ]
  },
  {
   "cell_type": "code",
   "execution_count": 32,
   "id": "b6ee82eb",
   "metadata": {},
   "outputs": [
    {
     "name": "stdout",
     "output_type": "stream",
     "text": [
      "Electronic Arts                           1351\n",
      "Activision                                 975\n",
      "Namco Bandai Games                         932\n",
      "Ubisoft                                    921\n",
      "Konami Digital Entertainment               832\n",
      "THQ                                        715\n",
      "Nintendo                                   703\n",
      "Sony Computer Entertainment                683\n",
      "Sega                                       639\n",
      "Take-Two Interactive                       413\n",
      "Capcom                                     381\n",
      "Atari                                      363\n",
      "Tecmo Koei                                 338\n",
      "Square Enix                                233\n",
      "Warner Bros. Interactive Entertainment     232\n",
      "Disney Interactive Studios                 218\n",
      "Unknown                                    203\n",
      "Eidos Interactive                          198\n",
      "Midway Games                               198\n",
      "505 Games                                  192\n",
      "Microsoft Game Studios                     189\n",
      "D3Publisher                                184\n",
      "Acclaim Entertainment                      184\n",
      "Vivendi Games                              164\n",
      "Codemasters                                152\n",
      "Idea Factory                               129\n",
      "Deep Silver                                122\n",
      "Nippon Ichi Software                       105\n",
      "Zoo Digital Publishing                     104\n",
      "Majesco Entertainment                       92\n",
      "LucasArts                                   90\n",
      "Rising Star Games                           86\n",
      "Hudson Soft                                 81\n",
      "Banpresto                                   73\n",
      "Bethesda Softworks                          71\n",
      "Crave Entertainment                         71\n",
      "Atlus                                       67\n",
      "Virgin Interactive                          62\n",
      "Infogrames                                  62\n",
      "Ignition Entertainment                      61\n",
      "Focus Home Interactive                      58\n",
      "Marvelous Interactive                       56\n",
      "Empire Interactive                          52\n",
      "SquareSoft                                  52\n",
      "Kadokawa Shoten                             49\n",
      "Destineer                                   45\n",
      "DTP Entertainment                           45\n",
      "GT Interactive                              45\n",
      "Alchemist                                   43\n",
      "5pb                                         43\n",
      "Name: Publisher, dtype: int64\n"
     ]
    }
   ],
   "source": [
    "# reading the excel file\n",
    "msreleased = pd.read_excel(r'path\\game_sales_data.xlsx', sheet_name = 'MostSoldPublisher')\n",
    "\n",
    "# total sum of the columns\n",
    "msreleased['Total Sales'] = msreleased['NA_Sales'] + msreleased['EU_Sales'] + msreleased['JP_Sales'] + msreleased['Other_Sales']\n",
    "\n",
    "# counting the occurrences of the 50 most appeared publishers\n",
    "releases = msreleased['Publisher'].value_counts()\n",
    "print(releases.head(50))\n",
    "    "
   ]
  },
  {
   "cell_type": "markdown",
   "id": "5e0b21d9",
   "metadata": {},
   "source": [
    "## What Genre Was the Most Sold"
   ]
  },
  {
   "cell_type": "code",
   "execution_count": 37,
   "id": "c9641161",
   "metadata": {},
   "outputs": [
    {
     "name": "stdout",
     "output_type": "stream",
     "text": [
      "           Genre  Total Sales\n",
      "0         Action      1749.90\n",
      "10        Sports      1330.54\n",
      "8        Shooter      1036.84\n",
      "7   Role-Playing       927.26\n",
      "4       Platform       831.04\n",
      "3           Misc       809.30\n",
      "6         Racing       731.77\n",
      "2       Fighting       448.94\n",
      "9     Simulation       391.91\n",
      "5         Puzzle       244.42\n",
      "1      Adventure       237.59\n",
      "11      Strategy       174.86\n"
     ]
    },
    {
     "data": {
      "image/png": "[encoded data removed]",
      "text/plain": [
       "<Figure size 640x480 with 1 Axes>"
      ]
     },
     "metadata": {},
     "output_type": "display_data"
    }
   ],
   "source": [
    "# reading the excel file\n",
    "msgenre = pd.read_excel(r'path\\game_sales_data.xlsx', sheet_name = 'MostSoldGenre')\n",
    "\n",
    "# total sum of the columns\n",
    "msgenre['Total Sales'] = msgenre['NA_Sales'] + msgenre['EU_Sales'] + msgenre['JP_Sales'] + msgenre['Other_Sales']\n",
    "\n",
    "# combining duplicate Genres and summing the column Total Values\n",
    "summ = msgenre.groupby('Genre')['Total Sales'].sum().reset_index()\n",
    "print(summ.sort_values('Total Sales', ascending = False))\n",
    "\n",
    "# creating a graph\n",
    "plt.barh(summ['Genre'], summ['Total Sales'], color = 'grey')\n",
    "\n",
    "# Defining x Axis and it's rotation\n",
    "plt.xlabel('Total Sales (in millions)')\n",
    "plt.xticks()\n",
    "\n",
    "# Defining y axis\n",
    "plt.ylabel('Genres')\n",
    "\n",
    "# Giving the Graph a tile\n",
    "plt.title('Most Sold Genres')\n",
    "\n",
    "# showing the graph\n",
    "plt.show()\n",
    "    "
   ]
  },
  {
   "cell_type": "markdown",
   "id": "572b5cf8",
   "metadata": {},
   "source": [
    "## Top 20 Publishers Who Sold More Copies"
   ]
  },
  {
   "cell_type": "code",
   "execution_count": 30,
   "id": "3c395093",
   "metadata": {},
   "outputs": [
    {
     "name": "stdout",
     "output_type": "stream",
     "text": [
      "                                        Total Sales\n",
      "Publisher                                          \n",
      "Nintendo                                    1786.36\n",
      "Electronic Arts                             1110.15\n",
      "Activision                                   727.11\n",
      "Sony Computer Entertainment                  607.49\n",
      "Ubisoft                                      474.51\n",
      "Take-Two Interactive                         399.70\n",
      "THQ                                          340.65\n",
      "Konami Digital Entertainment                 283.46\n",
      "Sega                                         272.95\n",
      "Namco Bandai Games                           253.91\n",
      "Microsoft Game Studios                       245.78\n",
      "Capcom                                       200.73\n",
      "Atari                                        156.88\n",
      "Warner Bros. Interactive Entertainment       153.90\n",
      "Square Enix                                  145.24\n",
      "Disney Interactive Studios                   119.72\n",
      "Eidos Interactive                             98.95\n",
      "LucasArts                                     87.30\n",
      "Bethesda Softworks                            82.06\n",
      "Midway Games                                  69.70\n"
     ]
    }
   ],
   "source": [
    "import pandas as pd\n",
    "import matplotlib.pyplot as plt\n",
    "\n",
    "\n",
    "# Reading the Excel file\n",
    "mssales = pd.read_excel(r'path\\game_sales_data.xlsx', sheet_name = 'MostSoldPublisher')\n",
    "\n",
    "# Summing the total of sales from the publishers\n",
    "mssales['Total Sales'] = mssales['NA_Sales'] + mssales['EU_Sales'] + mssales['JP_Sales'] + mssales['Other_Sales']\n",
    "\n",
    "# Grouping the Publishers and their sales (from biggest to smallest)\n",
    "newtable = mssales.groupby('Publisher')['Total Sales'].sum().reset_index().set_index('Publisher')\n",
    "print(newtable.sort_values('Total Sales', ascending = False).head(20))\n"
   ]
  }
 ],
 "metadata": {
  "kernelspec": {
   "display_name": "Python 3 (ipykernel)",
   "language": "python",
   "name": "python3"
  },
  "language_info": {
   "codemirror_mode": {
    "name": "ipython",
    "version": 3
   },
   "file_extension": ".py",
   "mimetype": "text/x-python",
   "name": "python",
   "nbconvert_exporter": "python",
   "pygments_lexer": "ipython3",
   "version": "3.10.9"
  }
 },
 "nbformat": 4,
 "nbformat_minor": 5
}
